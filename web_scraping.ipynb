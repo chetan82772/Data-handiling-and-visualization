{
  "nbformat": 4,
  "nbformat_minor": 0,
  "metadata": {
    "colab": {
      "provenance": []
    },
    "kernelspec": {
      "name": "python3",
      "display_name": "Python 3"
    },
    "language_info": {
      "name": "python"
    }
  },
  "cells": [
    {
      "cell_type": "code",
      "source": [
        "import requests\n",
        "Link=(\"https://www.bajajfinservmarkets.in/car-insurance/worlds-most-expensive-cars.html\")\n",
        "Link_text=requests.get(Link).text\n",
        "print(Link_text)"
      ],
      "metadata": {
        "colab": {
          "base_uri": "https://localhost:8080/"
        },
        "id": "X0U2yb8N7MAH",
        "outputId": "15725ec8-36b8-4c4a-99f0-4e8599f91a02"
      },
      "execution_count": 53,
      "outputs": [
        {
          "output_type": "stream",
          "name": "stdout",
          "text": [
            "<!DOCTYPE html PUBLIC \"-//W3C//DTD XHTML+RDFa 1.0//EN\" \"http://www.w3.org/MarkUp/DTD/xhtml-rdfa-1.dtd\">\n",
            "<!-- saved from url=(0031)https://bajajfinserv-direct.in/ -->\n",
            "<html xmlns=\"http://www.w3.org/1999/xhtml\" xml:lang=\"en\" version=\"XHTML+RDFa 1.0\" dir=\"ltr\" xmlns:content=\"http://purl.org/rss/1.0/modules/content/\" xmlns:dc=\"http://purl.org/dc/terms/\" xmlns:foaf=\"http://xmlns.com/foaf/0.1/\" xmlns:og=\"http://ogp.me/ns#\" xmlns:rdfs=\"http://www.w3.org/2000/01/rdf-schema#\" xmlns:sioc=\"http://rdfs.org/sioc/ns#\" xmlns:sioct=\"http://rdfs.org/sioc/types#\" xmlns:skos=\"http://www.w3.org/2004/02/skos/core#\" xmlns:xsd=\"http://www.w3.org/2001/XMLSchema#\" class=\"js\"><head profile=\"http://www.w3.org/1999/xhtml/vocab\"><meta http-equiv=\"Content-Type\" content=\"text/html; charset=UTF-8\">\n",
            "\n",
            "\n",
            "<meta http-equiv=\"X-UA-Compatible\" content=\"IE=edge,chrome=1\">\n",
            "<meta name=\"viewport\" content=\"width=device-width, initial-scale=1, maximum-scale=1\">\n",
            "<link rel=\"alternate\" type=\"application/rss+xml\" title=\"Bajaj FinServ RSS\" href=\"https://bajajfinservmarkets.in/?q=rss.xml\">\n",
            "<meta name=\"Generator\" content=\"Drupal 7 (http://drupal.org)\">\n",
            "<title>Bajaj FinServ</title>\n",
            "\n",
            "\n",
            "<link rel = \"stylesheet\" type = \"text/css\" href = \"/akamaigeo/BajajFinServ_files/css/bootstrap.min.css\">\n",
            "<link rel = \"stylesheet\" type = \"text/css\" href = \"/akamaigeo/BajajFinServ_files/css/style.css\">\n",
            "<link rel = \"stylesheet\" type = \"text/css\" href = \"/akamaigeo/BajajFinServ_files/css/AllLib.css\">\n",
            "\n",
            "\n",
            "</head>\n",
            "<body class=\"html front not-logged-in no-sidebars page-node\">\n",
            "\n",
            "<!-- Navigation -->\n",
            "<section class=\" HomeHeaderBg\">\n",
            "\t<div class=\"container HomeHeaderBoxFirst \">\n",
            "\t\t\t<div class=\"row OUTsideDownArrowLink affix\" data-spy=\"affix\" data-offset-top=\"-2\" style=\"padding: 3% 6%;\">\n",
            "\t\t\t<h3 class=\"websiteName\"><img src=\"/akamaigeo/BajajFinServ_files/logo.png\" alt=\"Bajaj FinServ  \" class=\"img-responsive\" style=\"width: 230px;\"></h3>\n",
            "\t\t\t</div>\n",
            "\t\n",
            "\t \n",
            "\n",
            "\t<div style=\"height:100px;\">\n",
            "\t</div>\n",
            "\n",
            "    \n",
            "  \n",
            "<div class=\"smartBuyBundl\">\n",
            "\t<h2>Thanks for your interest <br> in BFS MARKETS.</h2>\n",
            "\t<p>At the moment bajajfinservmarkets.in site and our products are available only in India.</p>\n",
            "</div>\n",
            "\n",
            "\n",
            "\t \t \n",
            "\n",
            "\n",
            "\t</div>\n",
            "</section>\n",
            "\n",
            "</body>\n",
            "</html>\n",
            "\n",
            "\n",
            "\n"
          ]
        }
      ]
    },
    {
      "cell_type": "code",
      "source": [
        "from bs4 import BeautifulSoup\n",
        "soup=BeautifulSoup(Link_text,'lxml')\n",
        "print(soup)\n"
      ],
      "metadata": {
        "colab": {
          "base_uri": "https://localhost:8080/"
        },
        "id": "ewyPRr1b7U_D",
        "outputId": "7c8eeb8d-2e31-4bdc-a79b-118648964f72"
      },
      "execution_count": 54,
      "outputs": [
        {
          "output_type": "stream",
          "name": "stdout",
          "text": [
            "<!DOCTYPE html PUBLIC \"-//W3C//DTD XHTML+RDFa 1.0//EN\" \"http://www.w3.org/MarkUp/DTD/xhtml-rdfa-1.dtd\">\n",
            "<!-- saved from url=(0031)https://bajajfinserv-direct.in/ --><html class=\"js\" dir=\"ltr\" version=\"XHTML+RDFa 1.0\" xml:lang=\"en\" xmlns=\"http://www.w3.org/1999/xhtml\" xmlns:content=\"http://purl.org/rss/1.0/modules/content/\" xmlns:dc=\"http://purl.org/dc/terms/\" xmlns:foaf=\"http://xmlns.com/foaf/0.1/\" xmlns:og=\"http://ogp.me/ns#\" xmlns:rdfs=\"http://www.w3.org/2000/01/rdf-schema#\" xmlns:sioc=\"http://rdfs.org/sioc/ns#\" xmlns:sioct=\"http://rdfs.org/sioc/types#\" xmlns:skos=\"http://www.w3.org/2004/02/skos/core#\" xmlns:xsd=\"http://www.w3.org/2001/XMLSchema#\"><head profile=\"http://www.w3.org/1999/xhtml/vocab\"><meta content=\"text/html; charset=utf-8\" http-equiv=\"Content-Type\"/>\n",
            "<meta content=\"IE=edge,chrome=1\" http-equiv=\"X-UA-Compatible\"/>\n",
            "<meta content=\"width=device-width, initial-scale=1, maximum-scale=1\" name=\"viewport\"/>\n",
            "<link href=\"https://bajajfinservmarkets.in/?q=rss.xml\" rel=\"alternate\" title=\"Bajaj FinServ RSS\" type=\"application/rss+xml\"/>\n",
            "<meta content=\"Drupal 7 (http://drupal.org)\" name=\"Generator\"/>\n",
            "<title>Bajaj FinServ</title>\n",
            "<link href=\"/akamaigeo/BajajFinServ_files/css/bootstrap.min.css\" rel=\"stylesheet\" type=\"text/css\"/>\n",
            "<link href=\"/akamaigeo/BajajFinServ_files/css/style.css\" rel=\"stylesheet\" type=\"text/css\"/>\n",
            "<link href=\"/akamaigeo/BajajFinServ_files/css/AllLib.css\" rel=\"stylesheet\" type=\"text/css\"/>\n",
            "</head>\n",
            "<body class=\"html front not-logged-in no-sidebars page-node\">\n",
            "<!-- Navigation -->\n",
            "<section class=\"HomeHeaderBg\">\n",
            "<div class=\"container HomeHeaderBoxFirst\">\n",
            "<div class=\"row OUTsideDownArrowLink affix\" data-offset-top=\"-2\" data-spy=\"affix\" style=\"padding: 3% 6%;\">\n",
            "<h3 class=\"websiteName\"><img alt=\"Bajaj FinServ  \" class=\"img-responsive\" src=\"/akamaigeo/BajajFinServ_files/logo.png\" style=\"width: 230px;\"/></h3>\n",
            "</div>\n",
            "<div style=\"height:100px;\">\n",
            "</div>\n",
            "<div class=\"smartBuyBundl\">\n",
            "<h2>Thanks for your interest <br/> in BFS MARKETS.</h2>\n",
            "<p>At the moment bajajfinservmarkets.in site and our products are available only in India.</p>\n",
            "</div>\n",
            "</div>\n",
            "</section>\n",
            "</body>\n",
            "</html>\n",
            "\n"
          ]
        }
      ]
    },
    {
      "cell_type": "code",
      "source": [
        "print(soup.title)"
      ],
      "metadata": {
        "colab": {
          "base_uri": "https://localhost:8080/"
        },
        "id": "x0h1xQXg7XfQ",
        "outputId": "eb870dcd-c73c-463a-98f9-2c8c685d6c95"
      },
      "execution_count": 55,
      "outputs": [
        {
          "output_type": "stream",
          "name": "stdout",
          "text": [
            "<title>Bajaj FinServ</title>\n"
          ]
        }
      ]
    },
    {
      "cell_type": "code",
      "source": [
        "print(soup.title.string)"
      ],
      "metadata": {
        "colab": {
          "base_uri": "https://localhost:8080/"
        },
        "id": "J_iOnLnM7iJA",
        "outputId": "613a74e7-e861-4b7d-be3e-600510cc11fd"
      },
      "execution_count": 56,
      "outputs": [
        {
          "output_type": "stream",
          "name": "stdout",
          "text": [
            "Bajaj FinServ\n"
          ]
        }
      ]
    },
    {
      "cell_type": "code",
      "source": [
        "soup.a"
      ],
      "metadata": {
        "id": "nzsiXUpY7pV4"
      },
      "execution_count": 57,
      "outputs": []
    },
    {
      "cell_type": "code",
      "source": [
        "soup.find_all('a')"
      ],
      "metadata": {
        "colab": {
          "base_uri": "https://localhost:8080/"
        },
        "id": "ncp9YBwy7r0S",
        "outputId": "169b67c7-5c0e-4129-d3eb-7e303dd1556e"
      },
      "execution_count": 58,
      "outputs": [
        {
          "output_type": "execute_result",
          "data": {
            "text/plain": [
              "[]"
            ]
          },
          "metadata": {},
          "execution_count": 58
        }
      ]
    },
    {
      "cell_type": "code",
      "source": [
        "def getdata(url):\n",
        "    r = requests.get(url)\n",
        "    return r.text\n",
        "\n",
        "htmldata = getdata(\"https://www.bajajfinservmarkets.in/car-insurance/worlds-most-expensive-cars.html\")\n",
        "soup = BeautifulSoup(htmldata, 'html.parser')\n",
        "for item in soup.find_all('img'):\n",
        "    print(item[\"src\"])\n",
        ""
      ],
      "metadata": {
        "colab": {
          "base_uri": "https://localhost:8080/"
        },
        "id": "4_UDiMiS7wLo",
        "outputId": "46004dc8-1f7f-4d29-eca0-1344f2ba0afd"
      },
      "execution_count": 59,
      "outputs": [
        {
          "output_type": "stream",
          "name": "stdout",
          "text": [
            "/akamaigeo/BajajFinServ_files/logo.png\n"
          ]
        }
      ]
    }
  ]
}